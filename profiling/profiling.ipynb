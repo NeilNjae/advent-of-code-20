{
 "cells": [
  {
   "cell_type": "code",
   "execution_count": 1,
   "metadata": {
    "Collapsed": "false"
   },
   "outputs": [],
   "source": [
    "import glob\n",
    "import json\n",
    "import pandas as pd\n",
    "import numpy as np\n",
    "\n",
    "import matplotlib.pyplot as plt\n",
    "%matplotlib inline"
   ]
  },
  {
   "cell_type": "code",
   "execution_count": null,
   "metadata": {
    "Collapsed": "false"
   },
   "outputs": [],
   "source": [
    "! for i in {01..25}; do stack build --executable-profiling  --ghc-options=\"-O2 -threaded -fprof-auto -rtsopts\" advent${i} ; stack exec --profile -- advent${i} +RTS -pj ; done\n"
   ]
  },
  {
   "cell_type": "code",
   "execution_count": 3,
   "metadata": {
    "Collapsed": "false"
   },
   "outputs": [
    {
     "data": {
      "text/plain": [
       "25"
      ]
     },
     "execution_count": 3,
     "metadata": {},
     "output_type": "execute_result"
    }
   ],
   "source": [
    "len(glob.glob('*prof'))"
   ]
  },
  {
   "cell_type": "code",
   "execution_count": 6,
   "metadata": {
    "Collapsed": "false",
    "scrolled": true
   },
   "outputs": [
    {
     "data": {
      "text/plain": [
       "[{'program': 'advent01',\n",
       "  'total_time': 0.48,\n",
       "  'total_alloc': 107029176,\n",
       "  'total_ticks': 1644,\n",
       "  'initial_capabilities': 12},\n",
       " {'program': 'advent16',\n",
       "  'total_time': 0.15,\n",
       "  'total_alloc': 17242880,\n",
       "  'total_ticks': 528,\n",
       "  'initial_capabilities': 12},\n",
       " {'program': 'advent23',\n",
       "  'total_time': 72.61,\n",
       "  'total_alloc': 10263690000,\n",
       "  'total_ticks': 247608,\n",
       "  'initial_capabilities': 12},\n",
       " {'program': 'advent15loop',\n",
       "  'total_time': 42.69,\n",
       "  'total_alloc': 8838275776,\n",
       "  'total_ticks': 145584,\n",
       "  'initial_capabilities': 12},\n",
       " {'program': 'advent24',\n",
       "  'total_time': 26.45,\n",
       "  'total_alloc': 4352105528,\n",
       "  'total_ticks': 90180,\n",
       "  'initial_capabilities': 12},\n",
       " {'program': 'advent21',\n",
       "  'total_time': 0.15,\n",
       "  'total_alloc': 9561880,\n",
       "  'total_ticks': 528,\n",
       "  'initial_capabilities': 12},\n",
       " {'program': 'advent19',\n",
       "  'total_time': 0.24,\n",
       "  'total_alloc': 44456496,\n",
       "  'total_ticks': 816,\n",
       "  'initial_capabilities': 12},\n",
       " {'program': 'advent08',\n",
       "  'total_time': 0.4,\n",
       "  'total_alloc': 74894192,\n",
       "  'total_ticks': 1356,\n",
       "  'initial_capabilities': 12},\n",
       " {'program': 'advent12',\n",
       "  'total_time': 0.03,\n",
       "  'total_alloc': 2206400,\n",
       "  'total_ticks': 108,\n",
       "  'initial_capabilities': 12},\n",
       " {'program': 'advent20',\n",
       "  'total_time': 34.74,\n",
       "  'total_alloc': 3860804096,\n",
       "  'total_ticks': 118476,\n",
       "  'initial_capabilities': 12},\n",
       " {'program': 'advent04',\n",
       "  'total_time': 0.44,\n",
       "  'total_alloc': 60820368,\n",
       "  'total_ticks': 1512,\n",
       "  'initial_capabilities': 12},\n",
       " {'program': 'advent09',\n",
       "  'total_time': 3.5,\n",
       "  'total_alloc': 793279616,\n",
       "  'total_ticks': 11928,\n",
       "  'initial_capabilities': 12},\n",
       " {'program': 'advent10',\n",
       "  'total_time': 0.01,\n",
       "  'total_alloc': 924456,\n",
       "  'total_ticks': 36,\n",
       "  'initial_capabilities': 12},\n",
       " {'program': 'advent13',\n",
       "  'total_time': 0.01,\n",
       "  'total_alloc': 542152,\n",
       "  'total_ticks': 36,\n",
       "  'initial_capabilities': 12},\n",
       " {'program': 'advent02',\n",
       "  'total_time': 0.26,\n",
       "  'total_alloc': 35370072,\n",
       "  'total_ticks': 876,\n",
       "  'initial_capabilities': 12},\n",
       " {'program': 'advent06',\n",
       "  'total_time': 0.11,\n",
       "  'total_alloc': 11624856,\n",
       "  'total_ticks': 372,\n",
       "  'initial_capabilities': 12},\n",
       " {'program': 'advent15',\n",
       "  'total_time': 43.83,\n",
       "  'total_alloc': 6662932672,\n",
       "  'total_ticks': 149460,\n",
       "  'initial_capabilities': 12},\n",
       " {'program': 'advent17',\n",
       "  'total_time': 21.33,\n",
       "  'total_alloc': 4808712520,\n",
       "  'total_ticks': 72744,\n",
       "  'initial_capabilities': 12},\n",
       " {'program': 'advent14',\n",
       "  'total_time': 1.66,\n",
       "  'total_alloc': 259113488,\n",
       "  'total_ticks': 5676,\n",
       "  'initial_capabilities': 12},\n",
       " {'program': 'advent18',\n",
       "  'total_time': 0.51,\n",
       "  'total_alloc': 21509984,\n",
       "  'total_ticks': 1728,\n",
       "  'initial_capabilities': 12},\n",
       " {'program': 'advent25',\n",
       "  'total_time': 0.35,\n",
       "  'total_alloc': 39231576,\n",
       "  'total_ticks': 1200,\n",
       "  'initial_capabilities': 12},\n",
       " {'program': 'advent11',\n",
       "  'total_time': 112.58,\n",
       "  'total_alloc': 35282262592,\n",
       "  'total_ticks': 383916,\n",
       "  'initial_capabilities': 12},\n",
       " {'program': 'advent07',\n",
       "  'total_time': 0.33,\n",
       "  'total_alloc': 21605440,\n",
       "  'total_ticks': 1128,\n",
       "  'initial_capabilities': 12},\n",
       " {'program': 'advent03',\n",
       "  'total_time': 0.06,\n",
       "  'total_alloc': 4017640,\n",
       "  'total_ticks': 192,\n",
       "  'initial_capabilities': 12},\n",
       " {'program': 'advent22',\n",
       "  'total_time': 22.64,\n",
       "  'total_alloc': 3242847728,\n",
       "  'total_ticks': 77208,\n",
       "  'initial_capabilities': 12},\n",
       " {'program': 'advent05',\n",
       "  'total_time': 0.09,\n",
       "  'total_alloc': 27810256,\n",
       "  'total_ticks': 312,\n",
       "  'initial_capabilities': 12}]"
      ]
     },
     "execution_count": 6,
     "metadata": {},
     "output_type": "execute_result"
    }
   ],
   "source": [
    "profs = []\n",
    "for fn in glob.glob('*prof'):\n",
    "    with open(fn) as f:\n",
    "        j = json.load(f)\n",
    "        prof = {}\n",
    "        for n in 'program total_time total_alloc total_ticks initial_capabilities'.split():\n",
    "            prof[n] = j[n]\n",
    "        profs.append(prof)\n",
    "profs"
   ]
  },
  {
   "cell_type": "code",
   "execution_count": 80,
   "metadata": {
    "Collapsed": "false"
   },
   "outputs": [
    {
     "data": {
      "text/html": [
       "<div>\n",
       "<style scoped>\n",
       "    .dataframe tbody tr th:only-of-type {\n",
       "        vertical-align: middle;\n",
       "    }\n",
       "\n",
       "    .dataframe tbody tr th {\n",
       "        vertical-align: top;\n",
       "    }\n",
       "\n",
       "    .dataframe thead th {\n",
       "        text-align: right;\n",
       "    }\n",
       "</style>\n",
       "<table border=\"1\" class=\"dataframe\">\n",
       "  <thead>\n",
       "    <tr style=\"text-align: right;\">\n",
       "      <th></th>\n",
       "      <th>total_time</th>\n",
       "      <th>total_alloc</th>\n",
       "      <th>total_ticks</th>\n",
       "      <th>initial_capabilities</th>\n",
       "    </tr>\n",
       "    <tr>\n",
       "      <th>program</th>\n",
       "      <th></th>\n",
       "      <th></th>\n",
       "      <th></th>\n",
       "      <th></th>\n",
       "    </tr>\n",
       "  </thead>\n",
       "  <tbody>\n",
       "    <tr>\n",
       "      <td>advent01</td>\n",
       "      <td>0.48</td>\n",
       "      <td>107029176</td>\n",
       "      <td>1644</td>\n",
       "      <td>12</td>\n",
       "    </tr>\n",
       "    <tr>\n",
       "      <td>advent02</td>\n",
       "      <td>0.26</td>\n",
       "      <td>35370072</td>\n",
       "      <td>876</td>\n",
       "      <td>12</td>\n",
       "    </tr>\n",
       "    <tr>\n",
       "      <td>advent03</td>\n",
       "      <td>0.06</td>\n",
       "      <td>4017640</td>\n",
       "      <td>192</td>\n",
       "      <td>12</td>\n",
       "    </tr>\n",
       "    <tr>\n",
       "      <td>advent04</td>\n",
       "      <td>0.44</td>\n",
       "      <td>60820368</td>\n",
       "      <td>1512</td>\n",
       "      <td>12</td>\n",
       "    </tr>\n",
       "    <tr>\n",
       "      <td>advent05</td>\n",
       "      <td>0.09</td>\n",
       "      <td>27810256</td>\n",
       "      <td>312</td>\n",
       "      <td>12</td>\n",
       "    </tr>\n",
       "    <tr>\n",
       "      <td>advent06</td>\n",
       "      <td>0.11</td>\n",
       "      <td>11624856</td>\n",
       "      <td>372</td>\n",
       "      <td>12</td>\n",
       "    </tr>\n",
       "    <tr>\n",
       "      <td>advent07</td>\n",
       "      <td>0.33</td>\n",
       "      <td>21605440</td>\n",
       "      <td>1128</td>\n",
       "      <td>12</td>\n",
       "    </tr>\n",
       "    <tr>\n",
       "      <td>advent08</td>\n",
       "      <td>0.40</td>\n",
       "      <td>74894192</td>\n",
       "      <td>1356</td>\n",
       "      <td>12</td>\n",
       "    </tr>\n",
       "    <tr>\n",
       "      <td>advent09</td>\n",
       "      <td>3.50</td>\n",
       "      <td>793279616</td>\n",
       "      <td>11928</td>\n",
       "      <td>12</td>\n",
       "    </tr>\n",
       "    <tr>\n",
       "      <td>advent10</td>\n",
       "      <td>0.01</td>\n",
       "      <td>924456</td>\n",
       "      <td>36</td>\n",
       "      <td>12</td>\n",
       "    </tr>\n",
       "    <tr>\n",
       "      <td>advent11</td>\n",
       "      <td>112.58</td>\n",
       "      <td>35282262592</td>\n",
       "      <td>383916</td>\n",
       "      <td>12</td>\n",
       "    </tr>\n",
       "    <tr>\n",
       "      <td>advent12</td>\n",
       "      <td>0.03</td>\n",
       "      <td>2206400</td>\n",
       "      <td>108</td>\n",
       "      <td>12</td>\n",
       "    </tr>\n",
       "    <tr>\n",
       "      <td>advent13</td>\n",
       "      <td>0.01</td>\n",
       "      <td>542152</td>\n",
       "      <td>36</td>\n",
       "      <td>12</td>\n",
       "    </tr>\n",
       "    <tr>\n",
       "      <td>advent14</td>\n",
       "      <td>1.66</td>\n",
       "      <td>259113488</td>\n",
       "      <td>5676</td>\n",
       "      <td>12</td>\n",
       "    </tr>\n",
       "    <tr>\n",
       "      <td>advent15</td>\n",
       "      <td>43.83</td>\n",
       "      <td>6662932672</td>\n",
       "      <td>149460</td>\n",
       "      <td>12</td>\n",
       "    </tr>\n",
       "    <tr>\n",
       "      <td>advent15loop</td>\n",
       "      <td>42.69</td>\n",
       "      <td>8838275776</td>\n",
       "      <td>145584</td>\n",
       "      <td>12</td>\n",
       "    </tr>\n",
       "    <tr>\n",
       "      <td>advent16</td>\n",
       "      <td>0.15</td>\n",
       "      <td>17242880</td>\n",
       "      <td>528</td>\n",
       "      <td>12</td>\n",
       "    </tr>\n",
       "    <tr>\n",
       "      <td>advent17</td>\n",
       "      <td>21.33</td>\n",
       "      <td>4808712520</td>\n",
       "      <td>72744</td>\n",
       "      <td>12</td>\n",
       "    </tr>\n",
       "    <tr>\n",
       "      <td>advent18</td>\n",
       "      <td>0.51</td>\n",
       "      <td>21509984</td>\n",
       "      <td>1728</td>\n",
       "      <td>12</td>\n",
       "    </tr>\n",
       "    <tr>\n",
       "      <td>advent19</td>\n",
       "      <td>0.24</td>\n",
       "      <td>44456496</td>\n",
       "      <td>816</td>\n",
       "      <td>12</td>\n",
       "    </tr>\n",
       "    <tr>\n",
       "      <td>advent20</td>\n",
       "      <td>34.74</td>\n",
       "      <td>3860804096</td>\n",
       "      <td>118476</td>\n",
       "      <td>12</td>\n",
       "    </tr>\n",
       "    <tr>\n",
       "      <td>advent21</td>\n",
       "      <td>0.15</td>\n",
       "      <td>9561880</td>\n",
       "      <td>528</td>\n",
       "      <td>12</td>\n",
       "    </tr>\n",
       "    <tr>\n",
       "      <td>advent22</td>\n",
       "      <td>22.64</td>\n",
       "      <td>3242847728</td>\n",
       "      <td>77208</td>\n",
       "      <td>12</td>\n",
       "    </tr>\n",
       "    <tr>\n",
       "      <td>advent23</td>\n",
       "      <td>72.61</td>\n",
       "      <td>10263690000</td>\n",
       "      <td>247608</td>\n",
       "      <td>12</td>\n",
       "    </tr>\n",
       "    <tr>\n",
       "      <td>advent24</td>\n",
       "      <td>26.45</td>\n",
       "      <td>4352105528</td>\n",
       "      <td>90180</td>\n",
       "      <td>12</td>\n",
       "    </tr>\n",
       "    <tr>\n",
       "      <td>advent25</td>\n",
       "      <td>0.35</td>\n",
       "      <td>39231576</td>\n",
       "      <td>1200</td>\n",
       "      <td>12</td>\n",
       "    </tr>\n",
       "  </tbody>\n",
       "</table>\n",
       "</div>"
      ],
      "text/plain": [
       "              total_time  total_alloc  total_ticks  initial_capabilities\n",
       "program                                                                 \n",
       "advent01            0.48    107029176         1644                    12\n",
       "advent02            0.26     35370072          876                    12\n",
       "advent03            0.06      4017640          192                    12\n",
       "advent04            0.44     60820368         1512                    12\n",
       "advent05            0.09     27810256          312                    12\n",
       "advent06            0.11     11624856          372                    12\n",
       "advent07            0.33     21605440         1128                    12\n",
       "advent08            0.40     74894192         1356                    12\n",
       "advent09            3.50    793279616        11928                    12\n",
       "advent10            0.01       924456           36                    12\n",
       "advent11          112.58  35282262592       383916                    12\n",
       "advent12            0.03      2206400          108                    12\n",
       "advent13            0.01       542152           36                    12\n",
       "advent14            1.66    259113488         5676                    12\n",
       "advent15           43.83   6662932672       149460                    12\n",
       "advent15loop       42.69   8838275776       145584                    12\n",
       "advent16            0.15     17242880          528                    12\n",
       "advent17           21.33   4808712520        72744                    12\n",
       "advent18            0.51     21509984         1728                    12\n",
       "advent19            0.24     44456496          816                    12\n",
       "advent20           34.74   3860804096       118476                    12\n",
       "advent21            0.15      9561880          528                    12\n",
       "advent22           22.64   3242847728        77208                    12\n",
       "advent23           72.61  10263690000       247608                    12\n",
       "advent24           26.45   4352105528        90180                    12\n",
       "advent25            0.35     39231576         1200                    12"
      ]
     },
     "execution_count": 80,
     "metadata": {},
     "output_type": "execute_result"
    }
   ],
   "source": [
    "performance = pd.DataFrame(profs).set_index('program').sort_index()\n",
    "performance"
   ]
  },
  {
   "cell_type": "code",
   "execution_count": 81,
   "metadata": {
    "Collapsed": "false"
   },
   "outputs": [
    {
     "data": {
      "text/plain": [
       "<matplotlib.axes._subplots.AxesSubplot at 0x7f265a38bfd0>"
      ]
     },
     "execution_count": 81,
     "metadata": {},
     "output_type": "execute_result"
    },
    {
     "data": {
      "image/png": "[encoded data removed]",
      "text/plain": [
       "<Figure size 432x288 with 1 Axes>"
      ]
     },
     "metadata": {
      "needs_background": "light"
     },
     "output_type": "display_data"
    }
   ],
   "source": [
    "performance.total_time.plot.bar()"
   ]
  },
  {
   "cell_type": "code",
   "execution_count": 82,
   "metadata": {
    "Collapsed": "false"
   },
   "outputs": [
    {
     "data": {
      "text/plain": [
       "<matplotlib.axes._subplots.AxesSubplot at 0x7f265a35bf10>"
      ]
     },
     "execution_count": 82,
     "metadata": {},
     "output_type": "execute_result"
    },
    {
     "data": {
      "image/png": "[encoded data removed]",
      "text/plain": [
       "<Figure size 432x288 with 1 Axes>"
      ]
     },
     "metadata": {
      "needs_background": "light"
     },
     "output_type": "display_data"
    }
   ],
   "source": [
    "performance.total_time.plot.bar(logy=True)"
   ]
  },
  {
   "cell_type": "code",
   "execution_count": 83,
   "metadata": {
    "Collapsed": "false"
   },
   "outputs": [
    {
     "data": {
      "text/plain": [
       "<matplotlib.axes._subplots.AxesSubplot at 0x7f265a49e510>"
      ]
     },
     "execution_count": 83,
     "metadata": {},
     "output_type": "execute_result"
    },
    {
     "data": {
      "image/png": "[encoded data removed]",
      "text/plain": [
       "<Figure size 432x288 with 1 Axes>"
      ]
     },
     "metadata": {
      "needs_background": "light"
     },
     "output_type": "display_data"
    }
   ],
   "source": [
    "performance.total_alloc.plot.bar()"
   ]
  },
  {
   "cell_type": "code",
   "execution_count": 84,
   "metadata": {
    "Collapsed": "false"
   },
   "outputs": [
    {
     "data": {
      "text/plain": [
       "<matplotlib.axes._subplots.AxesSubplot at 0x7f265ab71650>"
      ]
     },
     "execution_count": 84,
     "metadata": {},
     "output_type": "execute_result"
    },
    {
     "data": {
      "image/png": "[encoded data removed]",
      "text/plain": [
       "<Figure size 432x288 with 1 Axes>"
      ]
     },
     "metadata": {
      "needs_background": "light"
     },
     "output_type": "display_data"
    }
   ],
   "source": [
    "performance.total_alloc.plot.bar(logy=True)"
   ]
  },
  {
   "cell_type": "code",
   "execution_count": 85,
   "metadata": {
    "Collapsed": "false"
   },
   "outputs": [
    {
     "data": {
      "text/plain": [
       "<matplotlib.axes._subplots.AxesSubplot at 0x7f2659fb2b10>"
      ]
     },
     "execution_count": 85,
     "metadata": {},
     "output_type": "execute_result"
    },
    {
     "data": {
      "image/png": "[encoded data removed]",
      "text/plain": [
       "<Figure size 432x288 with 1 Axes>"
      ]
     },
     "metadata": {
      "needs_background": "light"
     },
     "output_type": "display_data"
    }
   ],
   "source": [
    "performance[['total_time', 'total_alloc']].plot.bar(logy=True)"
   ]
  },
  {
   "cell_type": "code",
   "execution_count": 86,
   "metadata": {
    "Collapsed": "false"
   },
   "outputs": [
    {
     "data": {
      "text/html": [
       "<div>\n",
       "<style scoped>\n",
       "    .dataframe tbody tr th:only-of-type {\n",
       "        vertical-align: middle;\n",
       "    }\n",
       "\n",
       "    .dataframe tbody tr th {\n",
       "        vertical-align: top;\n",
       "    }\n",
       "\n",
       "    .dataframe thead th {\n",
       "        text-align: right;\n",
       "    }\n",
       "</style>\n",
       "<table border=\"1\" class=\"dataframe\">\n",
       "  <thead>\n",
       "    <tr style=\"text-align: right;\">\n",
       "      <th></th>\n",
       "      <th>Elapsed time (s)</th>\n",
       "      <th>Max memory</th>\n",
       "    </tr>\n",
       "    <tr>\n",
       "      <th>Program</th>\n",
       "      <th></th>\n",
       "      <th></th>\n",
       "    </tr>\n",
       "  </thead>\n",
       "  <tbody>\n",
       "    <tr>\n",
       "      <td>advent01</td>\n",
       "      <td>0.39</td>\n",
       "      <td>72440</td>\n",
       "    </tr>\n",
       "    <tr>\n",
       "      <td>advent02</td>\n",
       "      <td>0.41</td>\n",
       "      <td>72440</td>\n",
       "    </tr>\n",
       "    <tr>\n",
       "      <td>advent03</td>\n",
       "      <td>0.37</td>\n",
       "      <td>72504</td>\n",
       "    </tr>\n",
       "    <tr>\n",
       "      <td>advent04</td>\n",
       "      <td>0.43</td>\n",
       "      <td>72504</td>\n",
       "    </tr>\n",
       "    <tr>\n",
       "      <td>advent05</td>\n",
       "      <td>0.43</td>\n",
       "      <td>72440</td>\n",
       "    </tr>\n",
       "    <tr>\n",
       "      <td>advent06</td>\n",
       "      <td>0.41</td>\n",
       "      <td>72504</td>\n",
       "    </tr>\n",
       "    <tr>\n",
       "      <td>advent07</td>\n",
       "      <td>0.39</td>\n",
       "      <td>72444</td>\n",
       "    </tr>\n",
       "    <tr>\n",
       "      <td>advent08</td>\n",
       "      <td>0.44</td>\n",
       "      <td>72508</td>\n",
       "    </tr>\n",
       "    <tr>\n",
       "      <td>advent09</td>\n",
       "      <td>0.66</td>\n",
       "      <td>72508</td>\n",
       "    </tr>\n",
       "    <tr>\n",
       "      <td>advent10</td>\n",
       "      <td>0.36</td>\n",
       "      <td>72444</td>\n",
       "    </tr>\n",
       "    <tr>\n",
       "      <td>advent11</td>\n",
       "      <td>16.75</td>\n",
       "      <td>72504</td>\n",
       "    </tr>\n",
       "    <tr>\n",
       "      <td>advent12</td>\n",
       "      <td>0.38</td>\n",
       "      <td>72508</td>\n",
       "    </tr>\n",
       "    <tr>\n",
       "      <td>advent13</td>\n",
       "      <td>0.36</td>\n",
       "      <td>72436</td>\n",
       "    </tr>\n",
       "    <tr>\n",
       "      <td>advent14</td>\n",
       "      <td>0.61</td>\n",
       "      <td>72508</td>\n",
       "    </tr>\n",
       "    <tr>\n",
       "      <td>advent15</td>\n",
       "      <td>2.15</td>\n",
       "      <td>240372</td>\n",
       "    </tr>\n",
       "    <tr>\n",
       "      <td>advent15loop</td>\n",
       "      <td>1.88</td>\n",
       "      <td>240444</td>\n",
       "    </tr>\n",
       "    <tr>\n",
       "      <td>advent16</td>\n",
       "      <td>0.38</td>\n",
       "      <td>72444</td>\n",
       "    </tr>\n",
       "    <tr>\n",
       "      <td>advent17</td>\n",
       "      <td>1.77</td>\n",
       "      <td>72444</td>\n",
       "    </tr>\n",
       "    <tr>\n",
       "      <td>advent18</td>\n",
       "      <td>0.39</td>\n",
       "      <td>72444</td>\n",
       "    </tr>\n",
       "    <tr>\n",
       "      <td>advent19</td>\n",
       "      <td>0.46</td>\n",
       "      <td>72504</td>\n",
       "    </tr>\n",
       "    <tr>\n",
       "      <td>advent20</td>\n",
       "      <td>4.12</td>\n",
       "      <td>72436</td>\n",
       "    </tr>\n",
       "    <tr>\n",
       "      <td>advent21</td>\n",
       "      <td>0.39</td>\n",
       "      <td>72508</td>\n",
       "    </tr>\n",
       "    <tr>\n",
       "      <td>advent22</td>\n",
       "      <td>2.02</td>\n",
       "      <td>72500</td>\n",
       "    </tr>\n",
       "    <tr>\n",
       "      <td>advent23</td>\n",
       "      <td>1.91</td>\n",
       "      <td>95500</td>\n",
       "    </tr>\n",
       "    <tr>\n",
       "      <td>advent24</td>\n",
       "      <td>3.48</td>\n",
       "      <td>72504</td>\n",
       "    </tr>\n",
       "    <tr>\n",
       "      <td>advent25</td>\n",
       "      <td>0.41</td>\n",
       "      <td>72504</td>\n",
       "    </tr>\n",
       "  </tbody>\n",
       "</table>\n",
       "</div>"
      ],
      "text/plain": [
       "              Elapsed time (s)  Max memory\n",
       "Program                                   \n",
       "advent01                  0.39       72440\n",
       "advent02                  0.41       72440\n",
       "advent03                  0.37       72504\n",
       "advent04                  0.43       72504\n",
       "advent05                  0.43       72440\n",
       "advent06                  0.41       72504\n",
       "advent07                  0.39       72444\n",
       "advent08                  0.44       72508\n",
       "advent09                  0.66       72508\n",
       "advent10                  0.36       72444\n",
       "advent11                 16.75       72504\n",
       "advent12                  0.38       72508\n",
       "advent13                  0.36       72436\n",
       "advent14                  0.61       72508\n",
       "advent15                  2.15      240372\n",
       "advent15loop              1.88      240444\n",
       "advent16                  0.38       72444\n",
       "advent17                  1.77       72444\n",
       "advent18                  0.39       72444\n",
       "advent19                  0.46       72504\n",
       "advent20                  4.12       72436\n",
       "advent21                  0.39       72508\n",
       "advent22                  2.02       72500\n",
       "advent23                  1.91       95500\n",
       "advent24                  3.48       72504\n",
       "advent25                  0.41       72504"
      ]
     },
     "execution_count": 86,
     "metadata": {},
     "output_type": "execute_result"
    }
   ],
   "source": [
    "times = pd.read_csv('time-results.csv').set_index('Program').sort_index()\n",
    "times"
   ]
  },
  {
   "cell_type": "code",
   "execution_count": 87,
   "metadata": {
    "Collapsed": "false"
   },
   "outputs": [
    {
     "data": {
      "text/html": [
       "<div>\n",
       "<style scoped>\n",
       "    .dataframe tbody tr th:only-of-type {\n",
       "        vertical-align: middle;\n",
       "    }\n",
       "\n",
       "    .dataframe tbody tr th {\n",
       "        vertical-align: top;\n",
       "    }\n",
       "\n",
       "    .dataframe thead th {\n",
       "        text-align: right;\n",
       "    }\n",
       "</style>\n",
       "<table border=\"1\" class=\"dataframe\">\n",
       "  <thead>\n",
       "    <tr style=\"text-align: right;\">\n",
       "      <th></th>\n",
       "      <th>Elapsed time (s)</th>\n",
       "      <th>Max memory</th>\n",
       "    </tr>\n",
       "  </thead>\n",
       "  <tbody>\n",
       "    <tr>\n",
       "      <td>count</td>\n",
       "      <td>26.000000</td>\n",
       "      <td>26.000000</td>\n",
       "    </tr>\n",
       "    <tr>\n",
       "      <td>mean</td>\n",
       "      <td>1.605769</td>\n",
       "      <td>86280.615385</td>\n",
       "    </tr>\n",
       "    <tr>\n",
       "      <td>std</td>\n",
       "      <td>3.255795</td>\n",
       "      <td>45597.232922</td>\n",
       "    </tr>\n",
       "    <tr>\n",
       "      <td>min</td>\n",
       "      <td>0.360000</td>\n",
       "      <td>72436.000000</td>\n",
       "    </tr>\n",
       "    <tr>\n",
       "      <td>25%</td>\n",
       "      <td>0.390000</td>\n",
       "      <td>72444.000000</td>\n",
       "    </tr>\n",
       "    <tr>\n",
       "      <td>50%</td>\n",
       "      <td>0.430000</td>\n",
       "      <td>72504.000000</td>\n",
       "    </tr>\n",
       "    <tr>\n",
       "      <td>75%</td>\n",
       "      <td>1.852500</td>\n",
       "      <td>72508.000000</td>\n",
       "    </tr>\n",
       "    <tr>\n",
       "      <td>max</td>\n",
       "      <td>16.750000</td>\n",
       "      <td>240444.000000</td>\n",
       "    </tr>\n",
       "  </tbody>\n",
       "</table>\n",
       "</div>"
      ],
      "text/plain": [
       "       Elapsed time (s)     Max memory\n",
       "count         26.000000      26.000000\n",
       "mean           1.605769   86280.615385\n",
       "std            3.255795   45597.232922\n",
       "min            0.360000   72436.000000\n",
       "25%            0.390000   72444.000000\n",
       "50%            0.430000   72504.000000\n",
       "75%            1.852500   72508.000000\n",
       "max           16.750000  240444.000000"
      ]
     },
     "execution_count": 87,
     "metadata": {},
     "output_type": "execute_result"
    }
   ],
   "source": [
    "times.describe()"
   ]
  },
  {
   "cell_type": "code",
   "execution_count": 88,
   "metadata": {
    "Collapsed": "false"
   },
   "outputs": [
    {
     "data": {
      "text/html": [
       "<div>\n",
       "<style scoped>\n",
       "    .dataframe tbody tr th:only-of-type {\n",
       "        vertical-align: middle;\n",
       "    }\n",
       "\n",
       "    .dataframe tbody tr th {\n",
       "        vertical-align: top;\n",
       "    }\n",
       "\n",
       "    .dataframe thead th {\n",
       "        text-align: right;\n",
       "    }\n",
       "</style>\n",
       "<table border=\"1\" class=\"dataframe\">\n",
       "  <thead>\n",
       "    <tr style=\"text-align: right;\">\n",
       "      <th></th>\n",
       "      <th>total_time</th>\n",
       "      <th>total_alloc</th>\n",
       "      <th>total_ticks</th>\n",
       "      <th>initial_capabilities</th>\n",
       "      <th>Elapsed time (s)</th>\n",
       "      <th>Max memory</th>\n",
       "    </tr>\n",
       "    <tr>\n",
       "      <th>program</th>\n",
       "      <th></th>\n",
       "      <th></th>\n",
       "      <th></th>\n",
       "      <th></th>\n",
       "      <th></th>\n",
       "      <th></th>\n",
       "    </tr>\n",
       "  </thead>\n",
       "  <tbody>\n",
       "    <tr>\n",
       "      <td>advent01</td>\n",
       "      <td>0.48</td>\n",
       "      <td>107029176</td>\n",
       "      <td>1644</td>\n",
       "      <td>12</td>\n",
       "      <td>0.39</td>\n",
       "      <td>72440</td>\n",
       "    </tr>\n",
       "    <tr>\n",
       "      <td>advent02</td>\n",
       "      <td>0.26</td>\n",
       "      <td>35370072</td>\n",
       "      <td>876</td>\n",
       "      <td>12</td>\n",
       "      <td>0.41</td>\n",
       "      <td>72440</td>\n",
       "    </tr>\n",
       "    <tr>\n",
       "      <td>advent03</td>\n",
       "      <td>0.06</td>\n",
       "      <td>4017640</td>\n",
       "      <td>192</td>\n",
       "      <td>12</td>\n",
       "      <td>0.37</td>\n",
       "      <td>72504</td>\n",
       "    </tr>\n",
       "    <tr>\n",
       "      <td>advent04</td>\n",
       "      <td>0.44</td>\n",
       "      <td>60820368</td>\n",
       "      <td>1512</td>\n",
       "      <td>12</td>\n",
       "      <td>0.43</td>\n",
       "      <td>72504</td>\n",
       "    </tr>\n",
       "    <tr>\n",
       "      <td>advent05</td>\n",
       "      <td>0.09</td>\n",
       "      <td>27810256</td>\n",
       "      <td>312</td>\n",
       "      <td>12</td>\n",
       "      <td>0.43</td>\n",
       "      <td>72440</td>\n",
       "    </tr>\n",
       "    <tr>\n",
       "      <td>advent06</td>\n",
       "      <td>0.11</td>\n",
       "      <td>11624856</td>\n",
       "      <td>372</td>\n",
       "      <td>12</td>\n",
       "      <td>0.41</td>\n",
       "      <td>72504</td>\n",
       "    </tr>\n",
       "    <tr>\n",
       "      <td>advent07</td>\n",
       "      <td>0.33</td>\n",
       "      <td>21605440</td>\n",
       "      <td>1128</td>\n",
       "      <td>12</td>\n",
       "      <td>0.39</td>\n",
       "      <td>72444</td>\n",
       "    </tr>\n",
       "    <tr>\n",
       "      <td>advent08</td>\n",
       "      <td>0.40</td>\n",
       "      <td>74894192</td>\n",
       "      <td>1356</td>\n",
       "      <td>12</td>\n",
       "      <td>0.44</td>\n",
       "      <td>72508</td>\n",
       "    </tr>\n",
       "    <tr>\n",
       "      <td>advent09</td>\n",
       "      <td>3.50</td>\n",
       "      <td>793279616</td>\n",
       "      <td>11928</td>\n",
       "      <td>12</td>\n",
       "      <td>0.66</td>\n",
       "      <td>72508</td>\n",
       "    </tr>\n",
       "    <tr>\n",
       "      <td>advent10</td>\n",
       "      <td>0.01</td>\n",
       "      <td>924456</td>\n",
       "      <td>36</td>\n",
       "      <td>12</td>\n",
       "      <td>0.36</td>\n",
       "      <td>72444</td>\n",
       "    </tr>\n",
       "    <tr>\n",
       "      <td>advent11</td>\n",
       "      <td>112.58</td>\n",
       "      <td>35282262592</td>\n",
       "      <td>383916</td>\n",
       "      <td>12</td>\n",
       "      <td>16.75</td>\n",
       "      <td>72504</td>\n",
       "    </tr>\n",
       "    <tr>\n",
       "      <td>advent12</td>\n",
       "      <td>0.03</td>\n",
       "      <td>2206400</td>\n",
       "      <td>108</td>\n",
       "      <td>12</td>\n",
       "      <td>0.38</td>\n",
       "      <td>72508</td>\n",
       "    </tr>\n",
       "    <tr>\n",
       "      <td>advent13</td>\n",
       "      <td>0.01</td>\n",
       "      <td>542152</td>\n",
       "      <td>36</td>\n",
       "      <td>12</td>\n",
       "      <td>0.36</td>\n",
       "      <td>72436</td>\n",
       "    </tr>\n",
       "    <tr>\n",
       "      <td>advent14</td>\n",
       "      <td>1.66</td>\n",
       "      <td>259113488</td>\n",
       "      <td>5676</td>\n",
       "      <td>12</td>\n",
       "      <td>0.61</td>\n",
       "      <td>72508</td>\n",
       "    </tr>\n",
       "    <tr>\n",
       "      <td>advent15</td>\n",
       "      <td>43.83</td>\n",
       "      <td>6662932672</td>\n",
       "      <td>149460</td>\n",
       "      <td>12</td>\n",
       "      <td>2.15</td>\n",
       "      <td>240372</td>\n",
       "    </tr>\n",
       "    <tr>\n",
       "      <td>advent16</td>\n",
       "      <td>0.15</td>\n",
       "      <td>17242880</td>\n",
       "      <td>528</td>\n",
       "      <td>12</td>\n",
       "      <td>0.38</td>\n",
       "      <td>72444</td>\n",
       "    </tr>\n",
       "    <tr>\n",
       "      <td>advent17</td>\n",
       "      <td>21.33</td>\n",
       "      <td>4808712520</td>\n",
       "      <td>72744</td>\n",
       "      <td>12</td>\n",
       "      <td>1.77</td>\n",
       "      <td>72444</td>\n",
       "    </tr>\n",
       "    <tr>\n",
       "      <td>advent18</td>\n",
       "      <td>0.51</td>\n",
       "      <td>21509984</td>\n",
       "      <td>1728</td>\n",
       "      <td>12</td>\n",
       "      <td>0.39</td>\n",
       "      <td>72444</td>\n",
       "    </tr>\n",
       "    <tr>\n",
       "      <td>advent19</td>\n",
       "      <td>0.24</td>\n",
       "      <td>44456496</td>\n",
       "      <td>816</td>\n",
       "      <td>12</td>\n",
       "      <td>0.46</td>\n",
       "      <td>72504</td>\n",
       "    </tr>\n",
       "    <tr>\n",
       "      <td>advent20</td>\n",
       "      <td>34.74</td>\n",
       "      <td>3860804096</td>\n",
       "      <td>118476</td>\n",
       "      <td>12</td>\n",
       "      <td>4.12</td>\n",
       "      <td>72436</td>\n",
       "    </tr>\n",
       "    <tr>\n",
       "      <td>advent21</td>\n",
       "      <td>0.15</td>\n",
       "      <td>9561880</td>\n",
       "      <td>528</td>\n",
       "      <td>12</td>\n",
       "      <td>0.39</td>\n",
       "      <td>72508</td>\n",
       "    </tr>\n",
       "    <tr>\n",
       "      <td>advent22</td>\n",
       "      <td>22.64</td>\n",
       "      <td>3242847728</td>\n",
       "      <td>77208</td>\n",
       "      <td>12</td>\n",
       "      <td>2.02</td>\n",
       "      <td>72500</td>\n",
       "    </tr>\n",
       "    <tr>\n",
       "      <td>advent23</td>\n",
       "      <td>72.61</td>\n",
       "      <td>10263690000</td>\n",
       "      <td>247608</td>\n",
       "      <td>12</td>\n",
       "      <td>1.91</td>\n",
       "      <td>95500</td>\n",
       "    </tr>\n",
       "    <tr>\n",
       "      <td>advent24</td>\n",
       "      <td>26.45</td>\n",
       "      <td>4352105528</td>\n",
       "      <td>90180</td>\n",
       "      <td>12</td>\n",
       "      <td>3.48</td>\n",
       "      <td>72504</td>\n",
       "    </tr>\n",
       "    <tr>\n",
       "      <td>advent25</td>\n",
       "      <td>0.35</td>\n",
       "      <td>39231576</td>\n",
       "      <td>1200</td>\n",
       "      <td>12</td>\n",
       "      <td>0.41</td>\n",
       "      <td>72504</td>\n",
       "    </tr>\n",
       "  </tbody>\n",
       "</table>\n",
       "</div>"
      ],
      "text/plain": [
       "          total_time  total_alloc  total_ticks  initial_capabilities  \\\n",
       "program                                                                \n",
       "advent01        0.48    107029176         1644                    12   \n",
       "advent02        0.26     35370072          876                    12   \n",
       "advent03        0.06      4017640          192                    12   \n",
       "advent04        0.44     60820368         1512                    12   \n",
       "advent05        0.09     27810256          312                    12   \n",
       "advent06        0.11     11624856          372                    12   \n",
       "advent07        0.33     21605440         1128                    12   \n",
       "advent08        0.40     74894192         1356                    12   \n",
       "advent09        3.50    793279616        11928                    12   \n",
       "advent10        0.01       924456           36                    12   \n",
       "advent11      112.58  35282262592       383916                    12   \n",
       "advent12        0.03      2206400          108                    12   \n",
       "advent13        0.01       542152           36                    12   \n",
       "advent14        1.66    259113488         5676                    12   \n",
       "advent15       43.83   6662932672       149460                    12   \n",
       "advent16        0.15     17242880          528                    12   \n",
       "advent17       21.33   4808712520        72744                    12   \n",
       "advent18        0.51     21509984         1728                    12   \n",
       "advent19        0.24     44456496          816                    12   \n",
       "advent20       34.74   3860804096       118476                    12   \n",
       "advent21        0.15      9561880          528                    12   \n",
       "advent22       22.64   3242847728        77208                    12   \n",
       "advent23       72.61  10263690000       247608                    12   \n",
       "advent24       26.45   4352105528        90180                    12   \n",
       "advent25        0.35     39231576         1200                    12   \n",
       "\n",
       "          Elapsed time (s)  Max memory  \n",
       "program                                 \n",
       "advent01              0.39       72440  \n",
       "advent02              0.41       72440  \n",
       "advent03              0.37       72504  \n",
       "advent04              0.43       72504  \n",
       "advent05              0.43       72440  \n",
       "advent06              0.41       72504  \n",
       "advent07              0.39       72444  \n",
       "advent08              0.44       72508  \n",
       "advent09              0.66       72508  \n",
       "advent10              0.36       72444  \n",
       "advent11             16.75       72504  \n",
       "advent12              0.38       72508  \n",
       "advent13              0.36       72436  \n",
       "advent14              0.61       72508  \n",
       "advent15              2.15      240372  \n",
       "advent16              0.38       72444  \n",
       "advent17              1.77       72444  \n",
       "advent18              0.39       72444  \n",
       "advent19              0.46       72504  \n",
       "advent20              4.12       72436  \n",
       "advent21              0.39       72508  \n",
       "advent22              2.02       72500  \n",
       "advent23              1.91       95500  \n",
       "advent24              3.48       72504  \n",
       "advent25              0.41       72504  "
      ]
     },
     "execution_count": 88,
     "metadata": {},
     "output_type": "execute_result"
    }
   ],
   "source": [
    "performance = performance.merge(times, left_index=True, right_index=True)\n",
    "performance.drop(index='advent15loop', inplace=True)\n",
    "performance"
   ]
  },
  {
   "cell_type": "code",
   "execution_count": 89,
   "metadata": {
    "Collapsed": "false"
   },
   "outputs": [
    {
     "data": {
      "text/plain": [
       "Index(['total_time', 'total_alloc', 'total_ticks', 'initial_capabilities',\n",
       "       'Elapsed time (s)', 'Max memory'],\n",
       "      dtype='object')"
      ]
     },
     "execution_count": 89,
     "metadata": {},
     "output_type": "execute_result"
    }
   ],
   "source": [
    "performance.columns"
   ]
  },
  {
   "cell_type": "code",
   "execution_count": 90,
   "metadata": {
    "Collapsed": "false"
   },
   "outputs": [
    {
     "data": {
      "text/plain": [
       "<matplotlib.axes._subplots.AxesSubplot at 0x7f2659dff7d0>"
      ]
     },
     "execution_count": 90,
     "metadata": {},
     "output_type": "execute_result"
    },
    {
     "data": {
      "image/png": "[encoded data removed]",
      "text/plain": [
       "<Figure size 432x288 with 1 Axes>"
      ]
     },
     "metadata": {
      "needs_background": "light"
     },
     "output_type": "display_data"
    }
   ],
   "source": [
    "performance[['total_time', 'Elapsed time (s)']].plot.bar(logy=True)"
   ]
  },
  {
   "cell_type": "code",
   "execution_count": 91,
   "metadata": {
    "Collapsed": "false"
   },
   "outputs": [
    {
     "data": {
      "text/html": [
       "<div>\n",
       "<style scoped>\n",
       "    .dataframe tbody tr th:only-of-type {\n",
       "        vertical-align: middle;\n",
       "    }\n",
       "\n",
       "    .dataframe tbody tr th {\n",
       "        vertical-align: top;\n",
       "    }\n",
       "\n",
       "    .dataframe thead th {\n",
       "        text-align: right;\n",
       "    }\n",
       "</style>\n",
       "<table border=\"1\" class=\"dataframe\">\n",
       "  <thead>\n",
       "    <tr style=\"text-align: right;\">\n",
       "      <th></th>\n",
       "      <th>total_time</th>\n",
       "      <th>total_alloc</th>\n",
       "      <th>total_ticks</th>\n",
       "      <th>initial_capabilities</th>\n",
       "      <th>Elapsed time (s)</th>\n",
       "      <th>Max memory</th>\n",
       "      <th>elapsed_adj</th>\n",
       "    </tr>\n",
       "    <tr>\n",
       "      <th>program</th>\n",
       "      <th></th>\n",
       "      <th></th>\n",
       "      <th></th>\n",
       "      <th></th>\n",
       "      <th></th>\n",
       "      <th></th>\n",
       "      <th></th>\n",
       "    </tr>\n",
       "  </thead>\n",
       "  <tbody>\n",
       "    <tr>\n",
       "      <td>advent01</td>\n",
       "      <td>0.48</td>\n",
       "      <td>107029176</td>\n",
       "      <td>1644</td>\n",
       "      <td>12</td>\n",
       "      <td>0.39</td>\n",
       "      <td>72440</td>\n",
       "      <td>0.04</td>\n",
       "    </tr>\n",
       "    <tr>\n",
       "      <td>advent02</td>\n",
       "      <td>0.26</td>\n",
       "      <td>35370072</td>\n",
       "      <td>876</td>\n",
       "      <td>12</td>\n",
       "      <td>0.41</td>\n",
       "      <td>72440</td>\n",
       "      <td>0.06</td>\n",
       "    </tr>\n",
       "    <tr>\n",
       "      <td>advent03</td>\n",
       "      <td>0.06</td>\n",
       "      <td>4017640</td>\n",
       "      <td>192</td>\n",
       "      <td>12</td>\n",
       "      <td>0.37</td>\n",
       "      <td>72504</td>\n",
       "      <td>0.02</td>\n",
       "    </tr>\n",
       "    <tr>\n",
       "      <td>advent04</td>\n",
       "      <td>0.44</td>\n",
       "      <td>60820368</td>\n",
       "      <td>1512</td>\n",
       "      <td>12</td>\n",
       "      <td>0.43</td>\n",
       "      <td>72504</td>\n",
       "      <td>0.08</td>\n",
       "    </tr>\n",
       "    <tr>\n",
       "      <td>advent05</td>\n",
       "      <td>0.09</td>\n",
       "      <td>27810256</td>\n",
       "      <td>312</td>\n",
       "      <td>12</td>\n",
       "      <td>0.43</td>\n",
       "      <td>72440</td>\n",
       "      <td>0.08</td>\n",
       "    </tr>\n",
       "    <tr>\n",
       "      <td>advent06</td>\n",
       "      <td>0.11</td>\n",
       "      <td>11624856</td>\n",
       "      <td>372</td>\n",
       "      <td>12</td>\n",
       "      <td>0.41</td>\n",
       "      <td>72504</td>\n",
       "      <td>0.06</td>\n",
       "    </tr>\n",
       "    <tr>\n",
       "      <td>advent07</td>\n",
       "      <td>0.33</td>\n",
       "      <td>21605440</td>\n",
       "      <td>1128</td>\n",
       "      <td>12</td>\n",
       "      <td>0.39</td>\n",
       "      <td>72444</td>\n",
       "      <td>0.04</td>\n",
       "    </tr>\n",
       "    <tr>\n",
       "      <td>advent08</td>\n",
       "      <td>0.40</td>\n",
       "      <td>74894192</td>\n",
       "      <td>1356</td>\n",
       "      <td>12</td>\n",
       "      <td>0.44</td>\n",
       "      <td>72508</td>\n",
       "      <td>0.09</td>\n",
       "    </tr>\n",
       "    <tr>\n",
       "      <td>advent09</td>\n",
       "      <td>3.50</td>\n",
       "      <td>793279616</td>\n",
       "      <td>11928</td>\n",
       "      <td>12</td>\n",
       "      <td>0.66</td>\n",
       "      <td>72508</td>\n",
       "      <td>0.31</td>\n",
       "    </tr>\n",
       "    <tr>\n",
       "      <td>advent10</td>\n",
       "      <td>0.01</td>\n",
       "      <td>924456</td>\n",
       "      <td>36</td>\n",
       "      <td>12</td>\n",
       "      <td>0.36</td>\n",
       "      <td>72444</td>\n",
       "      <td>0.01</td>\n",
       "    </tr>\n",
       "    <tr>\n",
       "      <td>advent11</td>\n",
       "      <td>112.58</td>\n",
       "      <td>35282262592</td>\n",
       "      <td>383916</td>\n",
       "      <td>12</td>\n",
       "      <td>16.75</td>\n",
       "      <td>72504</td>\n",
       "      <td>16.40</td>\n",
       "    </tr>\n",
       "    <tr>\n",
       "      <td>advent12</td>\n",
       "      <td>0.03</td>\n",
       "      <td>2206400</td>\n",
       "      <td>108</td>\n",
       "      <td>12</td>\n",
       "      <td>0.38</td>\n",
       "      <td>72508</td>\n",
       "      <td>0.03</td>\n",
       "    </tr>\n",
       "    <tr>\n",
       "      <td>advent13</td>\n",
       "      <td>0.01</td>\n",
       "      <td>542152</td>\n",
       "      <td>36</td>\n",
       "      <td>12</td>\n",
       "      <td>0.36</td>\n",
       "      <td>72436</td>\n",
       "      <td>0.01</td>\n",
       "    </tr>\n",
       "    <tr>\n",
       "      <td>advent14</td>\n",
       "      <td>1.66</td>\n",
       "      <td>259113488</td>\n",
       "      <td>5676</td>\n",
       "      <td>12</td>\n",
       "      <td>0.61</td>\n",
       "      <td>72508</td>\n",
       "      <td>0.26</td>\n",
       "    </tr>\n",
       "    <tr>\n",
       "      <td>advent15</td>\n",
       "      <td>43.83</td>\n",
       "      <td>6662932672</td>\n",
       "      <td>149460</td>\n",
       "      <td>12</td>\n",
       "      <td>2.15</td>\n",
       "      <td>240372</td>\n",
       "      <td>1.80</td>\n",
       "    </tr>\n",
       "    <tr>\n",
       "      <td>advent16</td>\n",
       "      <td>0.15</td>\n",
       "      <td>17242880</td>\n",
       "      <td>528</td>\n",
       "      <td>12</td>\n",
       "      <td>0.38</td>\n",
       "      <td>72444</td>\n",
       "      <td>0.03</td>\n",
       "    </tr>\n",
       "    <tr>\n",
       "      <td>advent17</td>\n",
       "      <td>21.33</td>\n",
       "      <td>4808712520</td>\n",
       "      <td>72744</td>\n",
       "      <td>12</td>\n",
       "      <td>1.77</td>\n",
       "      <td>72444</td>\n",
       "      <td>1.42</td>\n",
       "    </tr>\n",
       "    <tr>\n",
       "      <td>advent18</td>\n",
       "      <td>0.51</td>\n",
       "      <td>21509984</td>\n",
       "      <td>1728</td>\n",
       "      <td>12</td>\n",
       "      <td>0.39</td>\n",
       "      <td>72444</td>\n",
       "      <td>0.04</td>\n",
       "    </tr>\n",
       "    <tr>\n",
       "      <td>advent19</td>\n",
       "      <td>0.24</td>\n",
       "      <td>44456496</td>\n",
       "      <td>816</td>\n",
       "      <td>12</td>\n",
       "      <td>0.46</td>\n",
       "      <td>72504</td>\n",
       "      <td>0.11</td>\n",
       "    </tr>\n",
       "    <tr>\n",
       "      <td>advent20</td>\n",
       "      <td>34.74</td>\n",
       "      <td>3860804096</td>\n",
       "      <td>118476</td>\n",
       "      <td>12</td>\n",
       "      <td>4.12</td>\n",
       "      <td>72436</td>\n",
       "      <td>3.77</td>\n",
       "    </tr>\n",
       "    <tr>\n",
       "      <td>advent21</td>\n",
       "      <td>0.15</td>\n",
       "      <td>9561880</td>\n",
       "      <td>528</td>\n",
       "      <td>12</td>\n",
       "      <td>0.39</td>\n",
       "      <td>72508</td>\n",
       "      <td>0.04</td>\n",
       "    </tr>\n",
       "    <tr>\n",
       "      <td>advent22</td>\n",
       "      <td>22.64</td>\n",
       "      <td>3242847728</td>\n",
       "      <td>77208</td>\n",
       "      <td>12</td>\n",
       "      <td>2.02</td>\n",
       "      <td>72500</td>\n",
       "      <td>1.67</td>\n",
       "    </tr>\n",
       "    <tr>\n",
       "      <td>advent23</td>\n",
       "      <td>72.61</td>\n",
       "      <td>10263690000</td>\n",
       "      <td>247608</td>\n",
       "      <td>12</td>\n",
       "      <td>1.91</td>\n",
       "      <td>95500</td>\n",
       "      <td>1.56</td>\n",
       "    </tr>\n",
       "    <tr>\n",
       "      <td>advent24</td>\n",
       "      <td>26.45</td>\n",
       "      <td>4352105528</td>\n",
       "      <td>90180</td>\n",
       "      <td>12</td>\n",
       "      <td>3.48</td>\n",
       "      <td>72504</td>\n",
       "      <td>3.13</td>\n",
       "    </tr>\n",
       "    <tr>\n",
       "      <td>advent25</td>\n",
       "      <td>0.35</td>\n",
       "      <td>39231576</td>\n",
       "      <td>1200</td>\n",
       "      <td>12</td>\n",
       "      <td>0.41</td>\n",
       "      <td>72504</td>\n",
       "      <td>0.06</td>\n",
       "    </tr>\n",
       "  </tbody>\n",
       "</table>\n",
       "</div>"
      ],
      "text/plain": [
       "          total_time  total_alloc  total_ticks  initial_capabilities  \\\n",
       "program                                                                \n",
       "advent01        0.48    107029176         1644                    12   \n",
       "advent02        0.26     35370072          876                    12   \n",
       "advent03        0.06      4017640          192                    12   \n",
       "advent04        0.44     60820368         1512                    12   \n",
       "advent05        0.09     27810256          312                    12   \n",
       "advent06        0.11     11624856          372                    12   \n",
       "advent07        0.33     21605440         1128                    12   \n",
       "advent08        0.40     74894192         1356                    12   \n",
       "advent09        3.50    793279616        11928                    12   \n",
       "advent10        0.01       924456           36                    12   \n",
       "advent11      112.58  35282262592       383916                    12   \n",
       "advent12        0.03      2206400          108                    12   \n",
       "advent13        0.01       542152           36                    12   \n",
       "advent14        1.66    259113488         5676                    12   \n",
       "advent15       43.83   6662932672       149460                    12   \n",
       "advent16        0.15     17242880          528                    12   \n",
       "advent17       21.33   4808712520        72744                    12   \n",
       "advent18        0.51     21509984         1728                    12   \n",
       "advent19        0.24     44456496          816                    12   \n",
       "advent20       34.74   3860804096       118476                    12   \n",
       "advent21        0.15      9561880          528                    12   \n",
       "advent22       22.64   3242847728        77208                    12   \n",
       "advent23       72.61  10263690000       247608                    12   \n",
       "advent24       26.45   4352105528        90180                    12   \n",
       "advent25        0.35     39231576         1200                    12   \n",
       "\n",
       "          Elapsed time (s)  Max memory  elapsed_adj  \n",
       "program                                              \n",
       "advent01              0.39       72440         0.04  \n",
       "advent02              0.41       72440         0.06  \n",
       "advent03              0.37       72504         0.02  \n",
       "advent04              0.43       72504         0.08  \n",
       "advent05              0.43       72440         0.08  \n",
       "advent06              0.41       72504         0.06  \n",
       "advent07              0.39       72444         0.04  \n",
       "advent08              0.44       72508         0.09  \n",
       "advent09              0.66       72508         0.31  \n",
       "advent10              0.36       72444         0.01  \n",
       "advent11             16.75       72504        16.40  \n",
       "advent12              0.38       72508         0.03  \n",
       "advent13              0.36       72436         0.01  \n",
       "advent14              0.61       72508         0.26  \n",
       "advent15              2.15      240372         1.80  \n",
       "advent16              0.38       72444         0.03  \n",
       "advent17              1.77       72444         1.42  \n",
       "advent18              0.39       72444         0.04  \n",
       "advent19              0.46       72504         0.11  \n",
       "advent20              4.12       72436         3.77  \n",
       "advent21              0.39       72508         0.04  \n",
       "advent22              2.02       72500         1.67  \n",
       "advent23              1.91       95500         1.56  \n",
       "advent24              3.48       72504         3.13  \n",
       "advent25              0.41       72504         0.06  "
      ]
     },
     "execution_count": 91,
     "metadata": {},
     "output_type": "execute_result"
    }
   ],
   "source": [
    "performance['elapsed_adj'] = performance['Elapsed time (s)'] - 0.35\n",
    "performance"
   ]
  },
  {
   "cell_type": "code",
   "execution_count": 92,
   "metadata": {
    "Collapsed": "false"
   },
   "outputs": [
    {
     "data": {
      "text/plain": [
       "<matplotlib.axes._subplots.AxesSubplot at 0x7f2659b2a950>"
      ]
     },
     "execution_count": 92,
     "metadata": {},
     "output_type": "execute_result"
    },
    {
     "data": {
      "image/png": "[encoded data removed]",
      "text/plain": [
       "<Figure size 432x288 with 1 Axes>"
      ]
     },
     "metadata": {
      "needs_background": "light"
     },
     "output_type": "display_data"
    }
   ],
   "source": [
    "performance[['total_time', 'elapsed_adj']].plot.bar(logy=True)"
   ]
  },
  {
   "cell_type": "code",
   "execution_count": 115,
   "metadata": {
    "Collapsed": "false"
   },
   "outputs": [
    {
     "data": {
      "image/png": "[encoded data removed]",
      "text/plain": [
       "<Figure size 864x360 with 2 Axes>"
      ]
     },
     "metadata": {
      "needs_background": "light"
     },
     "output_type": "display_data"
    }
   ],
   "source": [
    "fig, ax = plt.subplots(ncols=2, figsize=(12,5))\n",
    "\n",
    "performance['elapsed_adj'].plot.bar(ax=ax[0],\n",
    "    logy=True, \n",
    "    title=\"Run times (wall clock), log scale\",\n",
    "#     figsize=(10,8)\n",
    "    )\n",
    "ax[0].set_xlabel('Program')\n",
    "\n",
    "performance['elapsed_adj'].plot.bar(ax=ax[1],\n",
    "    logy=False, \n",
    "    title=\"Run times (wall clock), linear scale\",\n",
    "#     figsize=(10,8)\n",
    "    )\n",
    "ax[1].set_xlabel('Program')\n",
    "\n",
    "plt.savefig('run_times_combined.png')"
   ]
  },
  {
   "cell_type": "code",
   "execution_count": 109,
   "metadata": {
    "Collapsed": "false"
   },
   "outputs": [
    {
     "data": {
      "image/png": "[encoded data removed]",
      "text/plain": [
       "<Figure size 720x576 with 1 Axes>"
      ]
     },
     "metadata": {
      "needs_background": "light"
     },
     "output_type": "display_data"
    }
   ],
   "source": [
    "ax = performance['elapsed_adj'].plot.bar(logy=False, \n",
    "    title=\"Run times (wall clock), linear scale\",\n",
    "    figsize=(10,8))\n",
    "ax.set_xlabel('Program')\n",
    "plt.savefig('run_times_linear.png')"
   ]
  },
  {
   "cell_type": "code",
   "execution_count": 93,
   "metadata": {
    "Collapsed": "false"
   },
   "outputs": [
    {
     "data": {
      "text/plain": [
       "Index(['total_time', 'total_alloc', 'total_ticks', 'initial_capabilities',\n",
       "       'Elapsed time (s)', 'Max memory', 'elapsed_adj'],\n",
       "      dtype='object')"
      ]
     },
     "execution_count": 93,
     "metadata": {},
     "output_type": "execute_result"
    }
   ],
   "source": [
    "performance.columns"
   ]
  },
  {
   "cell_type": "code",
   "execution_count": 94,
   "metadata": {
    "Collapsed": "false"
   },
   "outputs": [
    {
     "data": {
      "text/plain": [
       "<matplotlib.axes._subplots.AxesSubplot at 0x7f2659b29ad0>"
      ]
     },
     "execution_count": 94,
     "metadata": {},
     "output_type": "execute_result"
    },
    {
     "data": {
      "image/png": "[encoded data removed]",
      "text/plain": [
       "<Figure size 432x288 with 1 Axes>"
      ]
     },
     "metadata": {
      "needs_background": "light"
     },
     "output_type": "display_data"
    }
   ],
   "source": [
    "performance['Max memory'].plot.bar()"
   ]
  },
  {
   "cell_type": "code",
   "execution_count": 95,
   "metadata": {
    "Collapsed": "false"
   },
   "outputs": [
    {
     "data": {
      "text/plain": [
       "<matplotlib.axes._subplots.AxesSubplot at 0x7f2659a07890>"
      ]
     },
     "execution_count": 95,
     "metadata": {},
     "output_type": "execute_result"
    },
    {
     "data": {
      "image/png": "[encoded data removed]",
      "text/plain": [
       "<Figure size 432x288 with 1 Axes>"
      ]
     },
     "metadata": {
      "needs_background": "light"
     },
     "output_type": "display_data"
    }
   ],
   "source": [
    "performance.plot.scatter('elapsed_adj', 'total_alloc', logx=True, logy=True)"
   ]
  },
  {
   "cell_type": "code",
   "execution_count": 100,
   "metadata": {
    "Collapsed": "false"
   },
   "outputs": [],
   "source": [
    "performance[['total_alloc', 'Max memory', 'elapsed_adj']].to_csv('performance.csv')"
   ]
  },
  {
   "cell_type": "code",
   "execution_count": null,
   "metadata": {
    "Collapsed": "false"
   },
   "outputs": [],
   "source": []
  }
 ],
 "metadata": {
  "kernelspec": {
   "display_name": "Python 3",
   "language": "python",
   "name": "python3"
  },
  "language_info": {
   "codemirror_mode": {
    "name": "ipython",
    "version": 3
   },
   "file_extension": ".py",
   "mimetype": "text/x-python",
   "name": "python",
   "nbconvert_exporter": "python",
   "pygments_lexer": "ipython3",
   "version": "3.7.4"
  }
 },
 "nbformat": 4,
 "nbformat_minor": 4
}
